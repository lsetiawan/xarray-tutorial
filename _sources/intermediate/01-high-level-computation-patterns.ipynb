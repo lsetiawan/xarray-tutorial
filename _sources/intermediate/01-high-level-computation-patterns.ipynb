{
 "cells": [
  {
   "cell_type": "markdown",
   "id": "a349a0a5-eeb3-410a-b5d1-f472a8ca14b2",
   "metadata": {
    "slideshow": {
     "slide_type": "slide"
    },
    "tags": []
   },
   "source": [
    "# Computational Patterns\n",
    "\n",
    "Often when writing code we repeat certain patterns, whether we realize it or not.\n",
    "If you have learned to write list comprehensions, you are taking advantage of a \"control pattern\".\n",
    "Often, these patterns are so common that many packages have built in functions to implement them.\n",
    "\n",
    "Quoting the [toolz documentation](https://toolz.readthedocs.io/en/latest/control.html):\n",
    "\n",
    "> The Toolz library contains dozens of patterns like map and groupby. Learning a\n",
    "> core set (maybe a dozen) covers the vast majority of common programming tasks\n",
    "> often done by hand. A rich vocabulary of core control functions conveys the\n",
    "> following benefits:\n",
    ">\n",
    "> - You identify new patterns\n",
    "> - You make fewer errors in rote coding\n",
    "> - You can depend on well tested and benchmarked implementations\n",
    "\n",
    "The same is true for xarray."
   ]
  },
  {
   "cell_type": "markdown",
   "id": "623d5170-f32d-4643-9a59-c54768ee7185",
   "metadata": {
    "slideshow": {
     "slide_type": "slide"
    },
    "tags": []
   },
   "source": [
    "## Motivation / Learning goals\n",
    "\n",
    "- Learn what high-level computational patterns are available in Xarray\n",
    "- Identify when you are re-implementing a high-level computational pattern\n",
    "- Implement that pattern using built-in Xarray functionality\n",
    "- Understand the difference between `map` and `reduce`"
   ]
  },
  {
   "cell_type": "markdown",
   "id": "5f0cda65-cfaa-42ed-bd4d-f290c1e98bb3",
   "metadata": {
    "slideshow": {
     "slide_type": "subslide"
    },
    "tags": []
   },
   "source": [
    "## Xarray's high-level patterns\n",
    "\n",
    "Xarray allows you to leverage dataset metadata to write more readable analysis\n",
    "code. The metadata is stored with the data; not in your head.\n",
    "\n",
    "1. Dimension names: `dim=\"latitude\"` instead of `axis=0`\n",
    "2. Coordinate \"labels\": or axis tick labels. `data.sel(latitude=45)` instead of\n",
    "   `data[10]`\n",
    "\n",
    "Xarray also provides high-level computational patterns that cover many data\n",
    "analysis tasks.\n",
    "\n",
    "1. `rolling` :\n",
    "   [Operate on rolling windows of your data e.g. running mean.](https://docs.xarray.dev/en/stable/user-guide/computation.html#rolling-window-operations)\n",
    "1. `coarsen` :\n",
    "   [Downsample your data.](https://docs.xarray.dev/en/stable/user-guide/computation.html#coarsen-large-arrays)\n",
    "1. `groupby` :\n",
    "   [Bin data in to groups and reduce.](https://docs.xarray.dev/en/stable/groupby.html)\n",
    "1. `groupby_bins`: GroupBy after discretizing a numeric variable.\n",
    "1. `resample` :\n",
    "   [GroupBy specialized for time axes. Either downsample or upsample your data.](https://docs.xarray.dev/en/stable/user-guide/time-series.html#resampling-and-grouped-operations)\n",
    "1. `weighted` : [Weight your data before reducing.](https://docs.xarray.dev/en/stable/user-guide/computation.html#weighted-array-reductions), as in [this tutorial](https://tutorial.xarray.dev/fundamentals/03.4_weighted.html).\n",
    "\n",
    "\n",
    "\n",
    "```{note}\n",
    "the documentation links in this tutorial point to the DataArray implementations of each function, but they are also available for DataSet objects.\n",
    "```\n"
   ]
  },
  {
   "cell_type": "markdown",
   "id": "71d8581c-1ffb-47a0-b992-12c3997f3586",
   "metadata": {
    "slideshow": {
     "slide_type": "slide"
    },
    "tags": []
   },
   "source": [
    "### Load example dataset\n"
   ]
  },
  {
   "cell_type": "code",
   "execution_count": null,
   "id": "02a9022f-1503-45a2-b57a-05ebfeb11d16",
   "metadata": {},
   "outputs": [],
   "source": [
    "import numpy as np\n",
    "import xarray as xr\n",
    "\n",
    "xr.set_options(keep_attrs=True, display_expand_data=False)\n",
    "\n",
    "da = xr.tutorial.load_dataset(\"air_temperature\", engine=\"netcdf4\").air\n",
    "monthly = da.resample(time=\"M\").mean()\n",
    "data = da.isel(time=0)\n",
    "data.plot();"
   ]
  },
  {
   "cell_type": "code",
   "execution_count": null,
   "id": "edc35fa6",
   "metadata": {},
   "outputs": [],
   "source": [
    "da"
   ]
  },
  {
   "cell_type": "markdown",
   "id": "6ff7edbb-ab97-4bf0-881a-0627230565f3",
   "metadata": {},
   "source": [
    "***\n",
    "\n",
    "### Identifying high-level computation patterns\n",
    "\n",
    "*or, when should I use these functions?*\n",
    "\n",
    "Consider a common use case. We want to complete some \"task\" for each of \"something\". The \"task\" might be a computation (e.g. mean, median, plot). The \"something\" could be a group of array values (e.g. pixels) or segments of time (e.g. monthly or seasonally).\n",
    "\n",
    "Often, our solution to this type of problem is to write a for loop. Say we want the average air temperature for each month across the entire domain (all lat and lon values):"
   ]
  },
  {
   "cell_type": "code",
   "execution_count": null,
   "id": "70159772",
   "metadata": {},
   "outputs": [],
   "source": [
    "months = [1, 2, 3, 4, 5, 6, 7, 8, 9, 10, 11, 12]\n",
    "avg_temps = []\n",
    "\n",
    "for mon in months:\n",
    "    avg = da[da[\"time.month\"] == mon].mean()\n",
    "    avg_temps.append(float(avg.data))\n",
    "\n",
    "print(avg_temps)"
   ]
  },
  {
   "cell_type": "markdown",
   "id": "d3a992bf",
   "metadata": {},
   "source": [
    "An easy conceptual next step for this example (but still using our for loop) would be to use Xarray's `groupby` function to create an iterator that does the work of grouping our data by month and looping over each month."
   ]
  },
  {
   "cell_type": "code",
   "execution_count": null,
   "id": "6f1b23fa",
   "metadata": {},
   "outputs": [],
   "source": [
    "avg_temps = []\n",
    "\n",
    "for label, group in da.groupby(\"time.month\"):\n",
    "    avg_temps.append(float(group.mean().data))\n",
    "\n",
    "print(avg_temps)"
   ]
  },
  {
   "cell_type": "markdown",
   "id": "c1772b16",
   "metadata": {},
   "source": [
    "Writing a for-loop here is not wrong, but it can quickly become cumbersome if you have a complex function to apply and it will take awhile to compute on a large dataset (you may even run out of memory). Parallelizing the computation would take a lot of additional work.\n",
    "\n",
    "Xarray's functionality instead allows us to do the same computation in one line of code (plus, the computation is optimized and ready to take advantage of parallel compute resources)!"
   ]
  },
  {
   "cell_type": "code",
   "execution_count": null,
   "id": "c53fda41",
   "metadata": {},
   "outputs": [],
   "source": [
    "avg_temps = da.groupby(\"time.month\").mean(...)  # note the use of the ellipses here\n",
    "print(avg_temps.data)"
   ]
  },
  {
   "cell_type": "markdown",
   "id": "4f548b71",
   "metadata": {},
   "source": [
    "Here we showed an example for computing a mean over a certain period of time (months), which ultimately uses the `GroupBy` function. The transition from loops to a built-in function is similar for `rolling` and `coarsen` over windows of values (e.g. pixels) instead of \"groups\" of time.\n",
    "\n",
    "Read on through this tutorial to learn some of the incredible ways to use Xarray to avoid writing long for-loops and efficiently complete computational analyses on your data.\n",
    "\n",
    "```{note}\n",
    "By default, `da.mean()` (and `df.mean()`) will calculate the mean by reducing your data over all dimensions (unless you specify otherwise using the `dim` kwarg). The default behavior of `.mean()` on a groupby is to calculate the mean over all dimensions of the variable you are grouping by - but not all the dimensions of the object you are operating on. To compute the mean across all dimensions of a groupby, we must specify `...` for all dimensions (or use the `dim` kwarg to specify which dimensions to reduce by).\n",
    "\n",
    "```\n",
    "\n",
    "For a more complex example (identifying flood events - including their start and end date - from rainfall data) illustrating the transition from for loops to high level computation tools, see [this discussion](https://github.com/pydata/xarray/discussions/7641). The [original 40 lines of code](https://github.com/pydata/xarray/discussions/7641#discussion-4976005), including nested for loops, was streamlined into a ~15 line workflow without any loops."
   ]
  },
  {
   "cell_type": "markdown",
   "id": "90832354-d0f3-4d83-a979-23b685203d3e",
   "metadata": {
    "slideshow": {
     "slide_type": "slide"
    },
    "tags": []
   },
   "source": [
    "***\n",
    "\n",
    "### Concept refresher: \"index space\" vs \"label space\"\n"
   ]
  },
  {
   "cell_type": "code",
   "execution_count": null,
   "id": "480771d1-be88-46b9-8fd7-e516109c7720",
   "metadata": {},
   "outputs": [],
   "source": [
    "data"
   ]
  },
  {
   "cell_type": "code",
   "execution_count": null,
   "id": "98d88825-5fe8-4b78-a8ff-b822d6c3f905",
   "metadata": {
    "tags": []
   },
   "outputs": [],
   "source": [
    "# index space\n",
    "data[10, :]  # 10th element along the first axis; ¯\\_(ツ)_/¯"
   ]
  },
  {
   "cell_type": "code",
   "execution_count": null,
   "id": "4a31afa0-1757-46bb-a07b-63e23d22ee2b",
   "metadata": {
    "tags": []
   },
   "outputs": [],
   "source": [
    "# slightly better index space\n",
    "data.isel(lat=10)  # slightly better, 10th element in latitude"
   ]
  },
  {
   "cell_type": "code",
   "execution_count": null,
   "id": "1a7893fd-c473-4ae0-a657-3e67eeb2a846",
   "metadata": {
    "tags": []
   },
   "outputs": [],
   "source": [
    "# \"label\" space\n",
    "data.sel(lat=50)  # much better! lat=50°N"
   ]
  },
  {
   "cell_type": "code",
   "execution_count": null,
   "id": "843985f3-4271-4f82-8ede-92624cd912aa",
   "metadata": {
    "slideshow": {
     "slide_type": "subslide"
    },
    "tags": []
   },
   "outputs": [],
   "source": [
    "# What I wanted to do\n",
    "data.sel(lat=50)\n",
    "\n",
    "# What I had to do (if I wasn't using xarray)\n",
    "data[10, :]"
   ]
  },
  {
   "cell_type": "markdown",
   "id": "e9b80381-8a0d-4833-97fa-687bf693ca5a",
   "metadata": {},
   "source": [
    "***\n",
    "\n",
    "## Xarray provides high-level patterns in both \"index space\" and \"label space\"\n",
    "\n",
    "### Index space\n",
    "\n",
    "These are windowed operations with a window of a fixed size.\n",
    "\n",
    "1. `rolling` :\n",
    "   [Operate on rolling (sliding) windows of your data e.g. running mean](https://docs.xarray.dev/en/stable/user-guide/computation.html#rolling-window-operations)\n",
    "1. `coarsen` :\n",
    "   [Downsample your data (decimating, reshaping)](https://docs.xarray.dev/en/stable/user-guide/computation.html#coarsen-large-arrays)\n",
    "\n",
    "### Label space\n",
    "\n",
    "These are windowed operations with irregular windows based on your data.\n",
    "\n",
    "1. `groupby` :\n",
    "   [Bin data in to groups and reduce](https://docs.xarray.dev/en/stable/groupby.html)\n",
    "1. `groupby_bins`: GroupBy after discretizing a numeric variable.\n",
    "1. `resample` :\n",
    "   [Groupby specialized for time axes. Either downsample or upsample your data.](https://docs.xarray.dev/en/stable/user-guide/time-series.html#resampling-and-grouped-operations)\n"
   ]
  },
  {
   "cell_type": "markdown",
   "id": "339bdf89-c7da-4fca-89e1-a6655e65a6a3",
   "metadata": {
    "slideshow": {
     "slide_type": "subslide"
    },
    "tags": []
   },
   "source": [
    "add some \"loop\" versions to show what a user might come up with that could be turned into one of these pattern operations\n",
    "\n",
    "---\n",
    "\n",
    "## Index space: windows of fixed width\n",
    "\n",
    "### Sliding windows of fixed length: [`rolling`](https://docs.xarray.dev/en/stable/generated/xarray.DataArray.rolling.html)\n",
    "\n",
    "- returns object of same shape as input\n",
    "- pads with NaNs to make this happen\n",
    "- supports multiple dimensions\n",
    "\n",
    "Here's the dataset\n"
   ]
  },
  {
   "cell_type": "code",
   "execution_count": null,
   "id": "77570af3-0ba3-46ec-9645-2822884710e5",
   "metadata": {},
   "outputs": [],
   "source": [
    "data.plot();"
   ]
  },
  {
   "cell_type": "markdown",
   "id": "144e2cfd-fc84-45d5-8993-05c3a8190a0c",
   "metadata": {},
   "source": [
    "And now smoothed 5 point running mean in lat and lon\n"
   ]
  },
  {
   "cell_type": "code",
   "execution_count": null,
   "id": "6bb40a90-ddcb-48f1-bc3f-3cfef18ed1eb",
   "metadata": {},
   "outputs": [],
   "source": [
    "data.rolling(lat=5, lon=5, center=True).mean().plot();"
   ]
  },
  {
   "cell_type": "markdown",
   "id": "b88c116e-ad63-4fea-81a7-bcabc194dee5",
   "metadata": {
    "slideshow": {
     "slide_type": "subslide"
    },
    "tags": []
   },
   "source": [
    "#### Apply an existing numpy-only function with `reduce`\n",
    "\n",
    "In some cases, we may want to apply a sliding window function using rolling that is not built in to Xarray. In these cases we can still leverage the sliding windows of rolling and apply our own function with [`reduce`](https://docs.xarray.dev/en/stable/generated/xarray.core.rolling.DataArrayRolling.reduce.html).\n",
    "\n",
    "```{tip}\n",
    " The `reduce` method expects a function that can receive and return plain arrays (e.g. numpy), as in each of the \"windows\" provided by the rolling iterator. This is in contrast to the `map` method, which expects a function that can receive and return Xarray objects.\n",
    "```\n",
    "\n",
    "Here's an example function: [`np.ptp`](https://numpy.org/doc/stable/reference/generated/numpy.ptp.html).\n"
   ]
  },
  {
   "cell_type": "code",
   "execution_count": null,
   "id": "b1610220",
   "metadata": {},
   "outputs": [],
   "source": [
    "data.rolling(lat=5, lon=5, center=True).reduce(np.ptp).plot();"
   ]
  },
  {
   "cell_type": "markdown",
   "id": "9ef251aa-ce3c-4318-95ba-470568ebd967",
   "metadata": {},
   "source": [
    "```{exercise}\n",
    ":label: rolling-reduce\n",
    "\n",
    "Calculate the rolling mean in 5 point bins along both latitude and longitude using\n",
    "[`rolling(**kwargs).reduce`](https://docs.xarray.dev/en/stable/generated/xarray.core.rolling.DataArrayRolling.reduce.html)\n",
    "\n",
    "```"
   ]
  },
  {
   "cell_type": "markdown",
   "id": "a36cbf94-ed41-42c6-8ccf-9278927d395b",
   "metadata": {
    "slideshow": {
     "slide_type": "subslide"
    },
    "tags": []
   },
   "source": [
    "````{solution} rolling-reduce\n",
    ":class: dropdown\n",
    "\n",
    "```python\n",
    "# exactly equivalent to data.rolling(...).mean()\n",
    "data.rolling(lat=5, lon=5, center=True).reduce(np.mean).plot();\n",
    "```\n",
    "\n",
    "````"
   ]
  },
  {
   "cell_type": "markdown",
   "id": "d0155b62-d08f-42c6-b467-1af73a7829c0",
   "metadata": {
    "slideshow": {
     "slide_type": "subslide"
    },
    "tags": []
   },
   "source": [
    "#### View outputs from `rolling` operations with `construct`\n",
    "\n",
    "In the above examples, we plotted the outputs of our rolling operations. Xarray makes it easy to integrate the outputs from `rolling` directly into the DataArray using the [`construct`](https://docs.xarray.dev/en/stable/generated/xarray.core.rolling.DataArrayRolling.construct.html#xarray.core.rolling.DataArrayRolling.construct) method."
   ]
  },
  {
   "cell_type": "code",
   "execution_count": null,
   "id": "d121b3cf-5ce3-481a-9d36-4242debb66f4",
   "metadata": {},
   "outputs": [],
   "source": [
    "simple = xr.DataArray(np.arange(10), dims=\"time\", coords={\"time\": np.arange(10)})\n",
    "simple"
   ]
  },
  {
   "cell_type": "code",
   "execution_count": null,
   "id": "01c78b48-2e02-4099-afa5-2490282a4541",
   "metadata": {},
   "outputs": [],
   "source": [
    "# adds a new dimension \"window\"\n",
    "simple.rolling(time=5, center=True).construct(\"window\")"
   ]
  },
  {
   "cell_type": "markdown",
   "id": "5d7562a7",
   "metadata": {},
   "source": [
    "Because `.construct()` only returns a \"view\" (not a copy) of the original data object (i.e. it is not operating \"in-place\"), in order to \"save\" the results you would need to rewrite the original object: `simple = simple.rolling(time=5, center=True).construct(\"window\")`."
   ]
  },
  {
   "cell_type": "markdown",
   "id": "5743ba77-def9-4b6f-a777-87014311253d",
   "metadata": {},
   "source": [
    "```{exercise}\n",
    ":label: rolling-construct\n",
    "Calculate the 5 point running mean in time and add it to your DataArray using `rolling.construct`\n",
    "```\n",
    "\n",
    "````{solution} rolling-construct\n",
    ":class: dropdown\n",
    "\n",
    "```python\n",
    "simple.rolling(time=5, center=True).construct(\"window\").mean(\"window\")\n",
    "```\n",
    "\n",
    "````\n"
   ]
  },
  {
   "cell_type": "markdown",
   "id": "c81f95b1-e1c3-4b28-8b7f-9519c9316e3f",
   "metadata": {},
   "source": [
    "`construct` is clever.\n",
    "\n",
    "1. It constructs a [**view**](https://numpy.org/doc/stable/user/basics.copies.html) of the original array, so it is memory-efficient.\n",
    "1. It does something sensible for dask arrays (though generally you want big chunksizes for the dimension you're sliding along).\n",
    "1. It also works with rolling along multiple dimensions!\n"
   ]
  },
  {
   "cell_type": "markdown",
   "id": "816929d5-6635-4e93-99fc-79b5729c5491",
   "metadata": {
    "tags": []
   },
   "source": [
    "#### Advanced: Another `construct` example\n",
    "\n",
    "This is a 2D rolling example; we need to provide two new dimension names.\n"
   ]
  },
  {
   "cell_type": "code",
   "execution_count": null,
   "id": "4cbdafe1-adf4-4c80-97ed-50e4b35033af",
   "metadata": {},
   "outputs": [],
   "source": [
    "data.rolling(lat=5, lon=5, center=True).construct(lat=\"lat_roll\", lon=\"lon_roll\")"
   ]
  },
  {
   "cell_type": "markdown",
   "id": "f75d2a5f-31d0-4943-b70a-06e7c8a30601",
   "metadata": {
    "slideshow": {
     "slide_type": "subslide"
    },
    "tags": []
   },
   "source": [
    "***\n",
    "\n",
    "### Block windows of fixed length: `coarsen`\n",
    "\n",
    "For non-overlapping windows or \"blocks\" use [`coarsen`](https://docs.xarray.dev/en/stable/generated/xarray.DataArray.coarsen.html). The syntax is very similar to `rolling`. You will need to specify how you want Xarray to handle the `boundary` if the length of the dimension is not a multiple of the block size.\n"
   ]
  },
  {
   "cell_type": "code",
   "execution_count": null,
   "id": "e70c3264-c392-463e-94bb-e0d30c4d4e6b",
   "metadata": {},
   "outputs": [],
   "source": [
    "data"
   ]
  },
  {
   "cell_type": "code",
   "execution_count": null,
   "id": "7a543edc-f378-405c-90af-7e1441ee0c8f",
   "metadata": {},
   "outputs": [],
   "source": [
    "data.plot();"
   ]
  },
  {
   "cell_type": "code",
   "execution_count": null,
   "id": "5ff1073d-ef2c-4078-9a91-11679991b3f3",
   "metadata": {},
   "outputs": [],
   "source": [
    "data.coarsen(lat=5, lon=5, boundary=\"trim\").mean()"
   ]
  },
  {
   "cell_type": "code",
   "execution_count": null,
   "id": "8db703ab-3c3f-4313-b104-4af0d116dd70",
   "metadata": {},
   "outputs": [],
   "source": [
    "(data.coarsen(lat=5, lon=5, boundary=\"trim\").mean().plot())"
   ]
  },
  {
   "cell_type": "markdown",
   "id": "b30794c7-1aeb-4e13-b6b4-824f23ac07df",
   "metadata": {
    "slideshow": {
     "slide_type": "subslide"
    },
    "tags": []
   },
   "source": [
    "#### Coarsen supports `reduce` for custom reductions\n",
    "\n",
    "```{exercise}\n",
    ":label: coarsen-reduce\n",
    "Use `coarsen.reduce` to apply `np.ptp` in 5x5 (lat x lon) point blocks to `data`\n",
    "```"
   ]
  },
  {
   "cell_type": "markdown",
   "id": "4f88d113-86d1-4158-b4e7-f54f98af3c0c",
   "metadata": {},
   "source": [
    "````{solution} coarsen-reduce\n",
    ":class: dropdown\n",
    "\n",
    "```python\n",
    "data.coarsen(lat=5, lon=5, boundary=\"trim\").reduce(np.mean).plot();\n",
    "```\n",
    "\n",
    "````\n"
   ]
  },
  {
   "cell_type": "markdown",
   "id": "0e7cbd7b-da18-48a3-bd29-708d97cc3bb7",
   "metadata": {
    "slideshow": {
     "slide_type": "subslide"
    },
    "tags": []
   },
   "source": [
    "#### Coarsen supports `construct` for block reshaping and storing outputs\n",
    "\n",
    "This is usually a good alternative to `np.reshape`\n",
    "\n",
    "A simple example splits a 2-year long monthly 1D time series into a 2D array shaped (year x month)\n"
   ]
  },
  {
   "cell_type": "code",
   "execution_count": null,
   "id": "acd8f398-b958-4cf7-8362-c8bd04e672c2",
   "metadata": {},
   "outputs": [],
   "source": [
    "months = xr.DataArray(\n",
    "    np.tile(np.arange(1, 13), reps=2),\n",
    "    dims=\"time\",\n",
    "    coords={\"time\": np.arange(1, 25)},\n",
    ")\n",
    "months"
   ]
  },
  {
   "cell_type": "code",
   "execution_count": null,
   "id": "48f137b0-66d0-4e00-b242-b509b01820eb",
   "metadata": {},
   "outputs": [],
   "source": [
    "# break \"time\" into two new dimensions: \"year\", \"month\"\n",
    "months.coarsen(time=12).construct(time=(\"year\", \"month\"))"
   ]
  },
  {
   "cell_type": "markdown",
   "id": "5dc5c7e7-bc3c-4362-bbd1-6a05801b7c90",
   "metadata": {},
   "source": [
    "Note two things:\n",
    "\n",
    "1. The `time` dimension was also reshaped.\n",
    "1. The new dimensions `year` and `month` don't have any coordinate labels\n",
    "   associated with them.\n",
    "\n",
    "What if the data had say 23 instead of 24 values (`months.isel(time=slice(1, None)`)? In that case we specify a different `boundary` (the default `boundary=\"exact\"` worked above); here we pad to 24 values.\n"
   ]
  },
  {
   "cell_type": "code",
   "execution_count": null,
   "id": "083563d8-4f7a-471b-87af-718cc8c4b1f2",
   "metadata": {},
   "outputs": [],
   "source": [
    "months.isel(time=slice(1, None)).coarsen(time=12, boundary=\"pad\").construct(time=(\"year\", \"month\"))"
   ]
  },
  {
   "cell_type": "markdown",
   "id": "f4e90b49-42e4-411f-9148-bcaf145de26c",
   "metadata": {},
   "source": [
    "This adds values at the end of the array (see the 'nan' at the end of the time coordinate?), which is not so sensible for this\n",
    "problem.  We have some control of the padding through the `side` kwarg to `coarsen`. For `side=\"right\"` we get more sensible output."
   ]
  },
  {
   "cell_type": "code",
   "execution_count": null,
   "id": "ea26f7da-f2ea-4868-aada-f57f49da3b64",
   "metadata": {},
   "outputs": [],
   "source": [
    "months.isel(time=slice(1, None)).coarsen(time=12, boundary=\"pad\", side=\"right\").construct(\n",
    "    time=(\"year\", \"month\")\n",
    ")"
   ]
  },
  {
   "cell_type": "markdown",
   "id": "8174aad1-d6e1-4772-bf23-91e363a92c19",
   "metadata": {},
   "source": [
    "Note that `coarsen` pads with NaNs. For more control over padding, use\n",
    "[DataArray.pad](https://docs.xarray.dev/en/stable/generated/xarray.DataArray.pad.html) explicitly."
   ]
  },
  {
   "cell_type": "code",
   "execution_count": null,
   "id": "dc05f396-5c23-4ea0-a1db-926edb9f4baf",
   "metadata": {},
   "outputs": [],
   "source": [
    "(\n",
    "    months.isel(time=slice(1, None))\n",
    "    .pad(time=(1, 0), constant_values=-1)\n",
    "    .coarsen(time=12)\n",
    "    .construct(time=(\"year\", \"month\"))\n",
    ")"
   ]
  },
  {
   "cell_type": "markdown",
   "id": "fbe916a3",
   "metadata": {},
   "source": [
    "```{note}\n",
    "The value specified in `.pad` only applies the `fill_value` to the array, not to coordinate variables.\n",
    "This is why the first value of time in the above example is NaN and not -1.\n",
    "```"
   ]
  },
  {
   "cell_type": "markdown",
   "id": "db43eb72-fb9f-4d6a-aab3-4617c9c41ab1",
   "metadata": {},
   "source": [
    "```{exercise}\n",
    ":label: reshape\n",
    "Reshape the `time` dimension of the DataArray `monthly` to year x\n",
    "month and visualize the seasonal cycle for two years at 250°E\n",
    "```\n"
   ]
  },
  {
   "cell_type": "markdown",
   "id": "b668514e-b40c-4c64-98bf-4579747ae6ab",
   "metadata": {},
   "source": [
    "````{solution} reshape\n",
    ":class: dropdown\n",
    "\n",
    "```python\n",
    "# splits time dimension into year x month\n",
    "year_month = monthly.coarsen(time=12).construct(time=(\"year\", \"month\"))\n",
    "\n",
    "# assign a nice coordinate value for month\n",
    "year_month[\"month\"] = [\n",
    "    \"jan\",\n",
    "    \"feb\",\n",
    "    \"mar\",\n",
    "    \"apr\",\n",
    "    \"may\",\n",
    "    \"jun\",\n",
    "    \"jul\",\n",
    "    \"aug\",\n",
    "    \"sep\",\n",
    "    \"oct\",\n",
    "    \"nov\",\n",
    "    \"dec\",\n",
    "]\n",
    "\n",
    "# assign a nice coordinate value for year\n",
    "year_month[\"year\"] = [2013, 2014]\n",
    "\n",
    "# seasonal cycle for two years\n",
    "year_month.sel(lon=250).plot.contourf(col=\"year\", x=\"month\", y=\"lat\")\n",
    "```\n",
    "\n",
    "````\n"
   ]
  },
  {
   "cell_type": "markdown",
   "id": "4de2984e-9c28-4ed7-909f-bab47b6eae49",
   "metadata": {},
   "source": [
    "This exercise came up during a live lecture.\n",
    "\n",
    "```{exercise}\n",
    ":label: rolling\n",
    "Calculate the rolling 4 month average, averaged across years.\n",
    "```\n"
   ]
  },
  {
   "cell_type": "markdown",
   "id": "9d907b2b-c9c8-41cb-8af0-756d5c21ffef",
   "metadata": {},
   "source": [
    "````{solution} rolling\n",
    ":class: dropdown\n",
    "\n",
    "1. We first reshape using `coarsen.construct` to add `year` as a new dimension.\n",
    "2. Apply `rolling` on the month dimension.\n",
    "3. It turns out that `roll.mean([\"year\", \"month\"])` doesn't work. So we use `roll.construct` to get a DataArray with a new dimension `window` and then take the mean over `window` and `year`\n",
    "\n",
    "```python\n",
    "reshaped = months.coarsen(time=12).construct(time=(\"year\", \"month\"))\n",
    "roll = reshaped.rolling(month=4, center=True)\n",
    "roll.construct(\"window\").mean([\"window\", \"year\"])\n",
    "```\n",
    "\n",
    "````"
   ]
  },
  {
   "cell_type": "markdown",
   "id": "5574cc55-5d2c-47ee-9227-5db6ecde2fbf",
   "metadata": {},
   "source": [
    "### Index space summary\n",
    "\n",
    "Use `rolling` and `coarsen` for fixed size windowing operations.\n",
    "\n",
    "1. `rolling` for overlapping windows\n",
    "1. `coarsen` for non-overlapping windows.\n",
    "\n",
    "Both provide the usual reductions as methods (`.mean()` and friends), and also\n",
    "`reduce` and `construct` for custom operations.\n"
   ]
  },
  {
   "cell_type": "markdown",
   "id": "25fd132c-5436-4af6-b8ad-75269cb45e75",
   "metadata": {
    "slideshow": {
     "slide_type": "slide"
    },
    "tags": []
   },
   "source": [
    "***\n",
    "\n",
    "## Label space \"windows\" or bins : GroupBy\n",
    "\n",
    "Sometimes the windows you want are not regularly spaced or even defined by a grid.\n",
    "For instance, grouping data by month (which have varying numbers of days) or the results of an image classification.\n",
    "The GroupBy functions are essentially a generalization of `coarsen`: \n",
    "\n",
    "- `groupby`: divide data into distinct groups, e.g. climatologies, composites. Works when \"groups\" are exact and can be determined using equality (`==`), e.g. characters or integers. Remember that floats are not exact values.\n",
    "- `groupby_bins`: Use binning operations, e.g. histograms, to group your data.\n",
    "- `resample`: Specialized implementation of GroupBy specifically for time grouping (so far)\n",
    "\n",
    "\n",
    "```{hint}\n",
    " Both `groupby_bins` and `resample` are implemented as `GroupBy` with a specific way of constructing group labels.\n",
    "```\n",
    "\n",
    "\n",
    "### Deconstructing GroupBy\n",
    "\n",
    "The GroupBy workflow is commonly called \"split-apply-combine\".\n",
    "\n",
    "1. \"split\" : break dataset into groups\n",
    "1. \"apply\" : apply an operation, for instance a reduction like `mean`\n",
    "1. \"combine\" : concatenate results from apply step along a new \"group\" dimension\n",
    "\n",
    "But really there is a \"hidden\" first step: identifying groups (also called factorization or binning). Usually this is the hard part.\n",
    "\n",
    "In reality the workflow is: \"identify groups\" → \"split into groups\" → \"apply function\" → \"combine results\".\n"
   ]
  },
  {
   "cell_type": "code",
   "execution_count": null,
   "id": "55c5e475",
   "metadata": {},
   "outputs": [],
   "source": [
    "# recall our earlier DataArray\n",
    "da"
   ]
  },
  {
   "cell_type": "code",
   "execution_count": null,
   "id": "758d0816-e6fc-4d9b-92aa-3dd293b3c776",
   "metadata": {},
   "outputs": [],
   "source": [
    "# GroupBy returns an iterator that traverses the specified groups, here by month.\n",
    "# Notice that groupby is clever enough for us to leave out the `.dt` before `.month`\n",
    "# we would need to specify to access the month data directly, as in `da.time.dt.month`.\n",
    "da.groupby(\"time.month\")"
   ]
  },
  {
   "cell_type": "code",
   "execution_count": null,
   "id": "a8c8ea6b-721d-4afb-9787-5e143efbb614",
   "metadata": {},
   "outputs": [],
   "source": [
    "# for each group (e.g. the air temperature in a given month for all the years),\n",
    "# compute the mean\n",
    "da.groupby(\"time.month\").mean()"
   ]
  },
  {
   "cell_type": "markdown",
   "id": "7a579539-1634-462c-b4d9-ea558fceadfb",
   "metadata": {},
   "source": [
    "Notice that since we have averaged over all the years for each month, our resulting DataArray no longer has a \"year\" coordinate.\n",
    "\n",
    "If we want to see how Xarray identifies \"groups\" for the monthly climatology computation, we can plot our input to `groupby`. GroupBy is clever enough to figure out how many values there are an thus how many groups to make.\n"
   ]
  },
  {
   "cell_type": "code",
   "execution_count": null,
   "id": "0380fb08-07ff-4aa7-9f97-5144bda372cc",
   "metadata": {},
   "outputs": [],
   "source": [
    "da[\"time.month\"].plot();"
   ]
  },
  {
   "cell_type": "markdown",
   "id": "a6d21727-4c15-4f13-ae53-61d5f4944554",
   "metadata": {},
   "source": [
    "Similarly for binning (remember this is useful when the parameter you are binning over is not \"exact\", like a float),\n"
   ]
  },
  {
   "cell_type": "code",
   "execution_count": null,
   "id": "4fc6378d-aad3-4abb-ba1b-37842b83b7bd",
   "metadata": {},
   "outputs": [],
   "source": [
    "data.groupby_bins(\"lat\", bins=[20, 35, 40, 45, 50])"
   ]
  },
  {
   "cell_type": "markdown",
   "id": "fdfd6080-d844-41fe-8a2b-97d2b87df0b9",
   "metadata": {},
   "source": [
    "and resampling...\n"
   ]
  },
  {
   "cell_type": "code",
   "execution_count": null,
   "id": "e19a68fc-fa4d-4e86-b42b-2218204a5ece",
   "metadata": {},
   "outputs": [],
   "source": [
    "da.resample(time=\"M\")"
   ]
  },
  {
   "cell_type": "markdown",
   "id": "3763efb3",
   "metadata": {},
   "source": [
    "```{note}\n",
    "\n",
    "Resampling is changing the frequency of our data to monthly (for two years), so we have 24 bins. GroupBy is taking the average across all data in the same month for two years, so we have 12 bins.\n",
    "\n",
    "```"
   ]
  },
  {
   "cell_type": "markdown",
   "id": "0b2de08d-0b7b-4725-80f3-c94d19d91669",
   "metadata": {
    "slideshow": {
     "slide_type": "subslide"
    },
    "tags": []
   },
   "source": [
    "### Constructing group labels\n",
    "\n",
    "Xarray uses [`pandas.factorize`](https://pandas.pydata.org/docs/reference/api/pandas.factorize.html) for `groupby` and [`pandas.cut`](https://pandas.pydata.org/docs/reference/api/pandas.cut.html) for `groupby_bins`.\n",
    "\n",
    "#### Functions to construct group labels\n",
    "If the automatic group detection doesn't work for your problem then these functions are useful for constructing specific \"group labels\" in many cases\n",
    "\n",
    "1. [numpy.digitize](https://numpy.org/doc/stable/reference/generated/numpy.digitize.html)\n",
    "   for binning\n",
    "1. [numpy.searchsorted](https://numpy.org/doc/stable/reference/generated/numpy.searchsorted.html)\n",
    "   supports many other data types\n",
    "1. [pandas.factorize](https://pandas.pydata.org/pandas-docs/stable/reference/api/pandas.factorize.html)\n",
    "   supports characters, strings etc.\n",
    "1. [pandas.cut](https://pandas.pydata.org/pandas-docs/stable/reference/api/pandas.cut.html)\n",
    "   for binning\n",
    "1. [DataArray.isin](https://docs.xarray.dev/en/stable/generated/xarray.DataArray.isin.html)\n",
    "1. [scipy.ndimage.label](https://docs.scipy.org/doc/scipy/reference/generated/scipy.ndimage.label.html)"
   ]
  },
  {
   "cell_type": "markdown",
   "id": "21be2221-a19a-4d8e-a80c-d3bb51b466b7",
   "metadata": {
    "slideshow": {
     "slide_type": "subslide"
    },
    "tags": []
   },
   "source": [
    "#### [\"Datetime components\"](https://docs.xarray.dev/en/stable/user-guide/time-series.html#datetime-components) for creating groups\n",
    "\n",
    "See a full list\n",
    "[here](https://docs.xarray.dev/en/stable/generated/xarray.core.accessor_dt.DatetimeAccessor.html?highlight=DatetimeAccessor)\n",
    "\n",
    "These can be accessed in a few different ways as illustrated below.\n"
   ]
  },
  {
   "cell_type": "code",
   "execution_count": null,
   "id": "72e67cd4-adf5-4e51-8163-a59ad8f9d5dd",
   "metadata": {
    "tags": []
   },
   "outputs": [],
   "source": [
    "da.time"
   ]
  },
  {
   "cell_type": "code",
   "execution_count": null,
   "id": "99c6a0df-ac18-47d4-98f0-b99189991950",
   "metadata": {},
   "outputs": [],
   "source": [
    "da.time.dt.day"
   ]
  },
  {
   "cell_type": "code",
   "execution_count": null,
   "id": "9c30397a-38b8-44a6-86fe-d32f99099b31",
   "metadata": {},
   "outputs": [],
   "source": [
    "da[\"time.day\"]"
   ]
  },
  {
   "cell_type": "code",
   "execution_count": null,
   "id": "7a7818a7-ccc6-4696-b27c-e905879bd9b8",
   "metadata": {},
   "outputs": [],
   "source": [
    "da.time.dt.season"
   ]
  },
  {
   "cell_type": "markdown",
   "id": "db7bd7e6-59cd-4b2a-ac37-2ff4d40d9fc8",
   "metadata": {},
   "source": [
    "#### Construct and use custom labels\n",
    "\n",
    "##### Custom seasons with `numpy.isin`.\n",
    "\n",
    "We want to group over four seasons: `DJF`, `MAM`, `JJAS`, `ON` - this makes physical sense in the Indian Ocean basin.\n",
    "\n",
    "Start by extracting months.\n"
   ]
  },
  {
   "cell_type": "code",
   "execution_count": null,
   "id": "00e9cef3-9484-4ca2-8da4-b5fb9b1dcebc",
   "metadata": {},
   "outputs": [],
   "source": [
    "month = da.time.dt.month.data\n",
    "month"
   ]
  },
  {
   "cell_type": "markdown",
   "id": "9dfcf050-6cc0-4138-94e4-e0eb7d57c0b1",
   "metadata": {},
   "source": [
    "Create a new empty array\n"
   ]
  },
  {
   "cell_type": "code",
   "execution_count": null,
   "id": "c19ca548-daf4-4419-8dc5-7a6c723c4ec4",
   "metadata": {},
   "outputs": [],
   "source": [
    "myseason = np.full(month.shape, \"    \")\n",
    "myseason"
   ]
  },
  {
   "cell_type": "markdown",
   "id": "baaa88a5-d375-4386-bfbd-2c0471a30b86",
   "metadata": {},
   "source": [
    "Use `isin` to assign custom seasons,\n"
   ]
  },
  {
   "cell_type": "code",
   "execution_count": null,
   "id": "25f860b3-566c-417e-b717-372dff3a60fe",
   "metadata": {},
   "outputs": [],
   "source": [
    "myseason[np.isin(month, [12, 1, 2])] = \"DJF\"\n",
    "myseason[np.isin(month, [3, 4, 5])] = \"MAM\"\n",
    "myseason[np.isin(month, [6, 7, 8, 9])] = \"JJAS\"\n",
    "myseason[np.isin(month, [10, 11])] = \"ON\""
   ]
  },
  {
   "cell_type": "markdown",
   "id": "297f4d2f",
   "metadata": {},
   "source": [
    "Turn our new seasonal group array into a DataArray."
   ]
  },
  {
   "cell_type": "code",
   "execution_count": null,
   "id": "6a72a117",
   "metadata": {},
   "outputs": [],
   "source": [
    "myseason_da = da.time.copy(data=myseason)\n",
    "myseason_da"
   ]
  },
  {
   "cell_type": "code",
   "execution_count": null,
   "id": "33cf5d2f-ba61-4bb8-8e90-9777bf6bf3f3",
   "metadata": {},
   "outputs": [],
   "source": [
    "(\n",
    "    # Calculate climatology\n",
    "    da.groupby(myseason_da)\n",
    "    .mean()\n",
    "    # reindex to get seasons in logical order (not alphabetical order)\n",
    "    .reindex(time=[\"DJF\", \"MAM\", \"JJAS\", \"ON\"])\n",
    "    .plot(col=\"time\")\n",
    ")"
   ]
  },
  {
   "cell_type": "markdown",
   "id": "7f3097b9-987f-4f9b-9c82-d5c6e879a862",
   "metadata": {
    "slideshow": {
     "slide_type": "subslide"
    },
    "tags": []
   },
   "source": [
    "##### `floor`, `ceil` and `round` on time\n",
    "\n",
    "Additional functionality in the [datetime accessor](https://docs.xarray.dev/en/stable/generated/xarray.core.accessor_dt.DatetimeAccessor.html) allows us to effectively \"resample\" our time data to remove roundoff errors in timestamps.\n"
   ]
  },
  {
   "cell_type": "code",
   "execution_count": null,
   "id": "b8263961-faed-43f5-8d67-d578d6163e35",
   "metadata": {},
   "outputs": [],
   "source": [
    "da.time"
   ]
  },
  {
   "cell_type": "code",
   "execution_count": null,
   "id": "0874688b-12c0-4353-9489-879f116c7473",
   "metadata": {},
   "outputs": [],
   "source": [
    "# remove roundoff error in timestamps\n",
    "# floor to daily frequency\n",
    "da.time.dt.floor(\"D\")"
   ]
  },
  {
   "cell_type": "markdown",
   "id": "5edb1818-6d4e-417b-af79-1cd6c9c04122",
   "metadata": {
    "slideshow": {
     "slide_type": "subslide"
    },
    "tags": []
   },
   "source": [
    "##### `strftime` is another powerful option\n",
    "\n",
    "So useful and so unintuitive that it has its own website: https://strftime.org/\n",
    "\n",
    "This is useful to avoid merging \"Feb-29\" and \"Mar-01\" for a daily climatology\n"
   ]
  },
  {
   "cell_type": "code",
   "execution_count": null,
   "id": "04e8eb13-2536-404c-ad85-36eae53f458b",
   "metadata": {},
   "outputs": [],
   "source": [
    "da.time.dt.strftime(\"%b-%d\")"
   ]
  },
  {
   "cell_type": "markdown",
   "id": "b5724cbb-dd2a-4dc5-9118-7c7dd294755f",
   "metadata": {
    "tags": []
   },
   "source": [
    "### Custom reductions with GroupBy\n",
    "\n",
    "Analogous to `rolling`, `reduce` and `map` apply custom reductions to `groupby_bins` and `resample`.\n"
   ]
  },
  {
   "cell_type": "code",
   "execution_count": null,
   "id": "4fa2442b-ef05-4cff-b83f-938159ab7756",
   "metadata": {},
   "outputs": [],
   "source": [
    "(da.groupby(\"time.month\").reduce(np.ptp).plot(col=\"month\", col_wrap=4))"
   ]
  },
  {
   "cell_type": "markdown",
   "id": "7cd7ede5-8e57-4099-ab39-b9d75427f125",
   "metadata": {},
   "source": [
    "```{tip}\n",
    " `map` is for functions that expect and return xarray objects (see also [`Dataset.map`](https://docs.xarray.dev/en/stable/generated/xarray.Dataset.map.html)). `reduce` is for functions that expect and return plain arrays (like Numpy or SciPy functions).\n",
    "```\n"
   ]
  },
  {
   "cell_type": "markdown",
   "id": "ed904da0-fb85-4432-8083-ef644209affd",
   "metadata": {
    "tags": []
   },
   "source": [
    "### Adding GroupBy outputs to your DataArray or DataSet\n",
    "\n",
    "GroupBy does not provide a `construct` method, because all the groups need not be the same \"length\" (e.g. months can have 28, 29, 30, or 31 days).\n",
    "\n",
    "#### Instead looping over groupby objects is possible\n",
    "\n",
    "Because `groupby` returns an iterator that loops over each group, it is easy to loop over groupby objects. You can also iterate over `rolling` and `coarsen` objects, however this approach is usually quite slow.\n",
    "\n",
    "Maybe you want to plot data in each group separately:\n"
   ]
  },
  {
   "cell_type": "code",
   "execution_count": null,
   "id": "2997b547-3f8a-4c08-878e-e3b72be95b95",
   "metadata": {},
   "outputs": [],
   "source": [
    "for label, group in da.groupby(\"time.month\"):\n",
    "    print(label)"
   ]
  },
  {
   "cell_type": "markdown",
   "id": "8017d842-ff79-47ec-928d-43e3cf4e7b66",
   "metadata": {},
   "source": [
    "This is a DataArray containing data for all December days (because the last printed `label` value is `12`, so the last `group` value is for December)."
   ]
  },
  {
   "cell_type": "code",
   "execution_count": null,
   "id": "ea975415-d8c1-4216-b6e3-9c0c8eb25d6b",
   "metadata": {
    "tags": []
   },
   "outputs": [],
   "source": [
    "group"
   ]
  },
  {
   "cell_type": "markdown",
   "id": "1c0cad35-225b-4622-a978-6113a9ca1d88",
   "metadata": {},
   "source": [
    "Maybe you want a histogram of December temperatures?\n"
   ]
  },
  {
   "cell_type": "code",
   "execution_count": null,
   "id": "e17ef02d-dae1-475b-a29b-595f910fab9c",
   "metadata": {},
   "outputs": [],
   "source": [
    "group.plot.hist()"
   ]
  },
  {
   "cell_type": "markdown",
   "id": "d339c52c",
   "metadata": {},
   "source": [
    "Remember, this example is just to show how you could operate on each group object in a groupby operation. If we wanted to just explore the December (or March) data, we should just filter for it directly:"
   ]
  },
  {
   "cell_type": "code",
   "execution_count": null,
   "id": "0c4fd9b2",
   "metadata": {},
   "outputs": [],
   "source": [
    "da[da[\"time.month\"] == 12].plot.hist()"
   ]
  },
  {
   "cell_type": "markdown",
   "id": "32dfe5fd-0e8f-4b69-a3c1-03f73c484b6b",
   "metadata": {
    "tags": []
   },
   "source": [
    "#### In most cases, avoid a for loop using `map`\n",
    "\n",
    "`map` enables us to apply functions that expect xarray Datasets or DataArrays. This makes it easy to perform calculations on the grouped data, add the results from each group back to the original object, and avoid having to manually combine results (using concat).\n"
   ]
  },
  {
   "cell_type": "code",
   "execution_count": null,
   "id": "ffeb4b59-1eaf-4c39-bac5-11646069ea29",
   "metadata": {
    "tags": []
   },
   "outputs": [],
   "source": [
    "def iqr(gb_da, dim):\n",
    "    \"\"\"Calculates interquartile range\"\"\"\n",
    "    return (gb_da.quantile(q=0.75, dim=dim) - gb_da.quantile(q=0.25, dim=dim)).rename(\"iqr\")\n",
    "\n",
    "\n",
    "da.groupby(\"time.month\").map(iqr, dim=\"time\")"
   ]
  },
  {
   "cell_type": "markdown",
   "id": "3122e22a-77f0-402f-baf6-111821973250",
   "metadata": {},
   "source": [
    "***"
   ]
  },
  {
   "cell_type": "markdown",
   "id": "a37ec2e3-24a0-4306-abe0-a6c04933bd88",
   "metadata": {},
   "source": [
    "## Summary\n",
    "\n",
    "Xarray provides methods for high-level analysis patterns:\n",
    "\n",
    "1. `rolling` :\n",
    "   [Operate on rolling (fixed length, overlapping) windows of your data e.g. running mean.](https://docs.xarray.dev/en/stable/user-guide/computation.html#rolling-window-operations)\n",
    "1. `coarsen` :\n",
    "   [Operate on blocks (fixed length) of your data (downsample).](https://docs.xarray.dev/en/stable/user-guide/computation.html#coarsen-large-arrays)\n",
    "1. `groupby` :\n",
    "   [Parse data into groups (using an exact value) and operate on each one (reduce data).](https://docs.xarray.dev/en/stable/groupby.html)\n",
    "1. `groupby_bins`: [GroupBy after discretizing a numeric (non-exact, e.g. float) variable.](https://docs.xarray.dev/en/stable/generated/xarray.DataArray.groupby_bins.html)\n",
    "1. `resample` :\n",
    "   [Groupby specialized for time axes. Either downsample or upsample your data.](https://docs.xarray.dev/en/stable/user-guide/time-series.html#resampling-and-grouped-operations)\n",
    "1. [Weight your data before reducing.](https://docs.xarray.dev/en/stable/user-guide/computation.html#weighted-array-reductions)\n",
    "\n",
    "Xarray also provides a consistent interface to make using those patterns easy:\n",
    "\n",
    "1. Iterate over the operators (`rolling`, `coarsen`, `groupby`, `groupby_bins`, `resample`).\n",
    "1. Apply functions that accept numpy-like arrays with `reduce`.\n",
    "1. Reshape to a new xarray object with `.construct` (`rolling`, `coarsen` only).\n",
    "1. Apply functions that accept xarray objects with `map` (`groupby`, `groupby_bins`, `resample` only).\n"
   ]
  }
 ],
 "metadata": {
  "language_info": {
   "codemirror_mode": {
    "name": "ipython",
    "version": 3
   },
   "file_extension": ".py",
   "mimetype": "text/x-python",
   "name": "python",
   "nbconvert_exporter": "python",
   "pygments_lexer": "ipython3"
  }
 },
 "nbformat": 4,
 "nbformat_minor": 5
}
