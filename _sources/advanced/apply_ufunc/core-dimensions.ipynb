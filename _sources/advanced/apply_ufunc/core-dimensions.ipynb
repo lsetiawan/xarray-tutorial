{
 "cells": [
  {
   "cell_type": "markdown",
   "id": "8a5fd05a-5187-4fb6-8809-049e7158124b",
   "metadata": {
    "tags": []
   },
   "source": [
    "# Core dimensions\n",
    "\n",
    "[Previously](gentle-intro) we learned to use `apply_ufunc` on simple functions that acted element by element. \n",
    "\n",
    "Here we move on to slightly more complex functions like `np.mean` that can act along a subset of an input array's dimensions.\n",
    "\n",
    "Such operations involve the concept of \"core dimensions\". \n",
    "\n",
    "Our learning goals are:\n",
    "- Learn how to identify \"core dimensions\" for the function you're applying.\n",
    "- Learn that \"core dimensions\" are automatically moved or transposed to the end of the array.\n",
    "\n",
    "\n",
    "## Introduction\n",
    "\n",
    "For using more complex operations that consider some array values collectively,\n",
    "it’s important to understand the idea of **core dimensions**. \n",
    "Usually, they correspond to the fundamental dimensions over\n",
    "which an operation is defined, e.g., the summed axis in `np.sum`. One way to think about core dimensions \n",
    "is to consider the smallest dimensionality of data that the function acts on.\n",
    "\n",
    "```{important}\n",
    "\n",
    "A good clue that core dimensions are needed is the presence of an `axis` argument on the\n",
    "corresponding NumPy function.\n",
    "\n",
    "```\n"
   ]
  },
  {
   "cell_type": "markdown",
   "id": "626c49ba-7d57-42e1-8e20-7d1b3ec7147d",
   "metadata": {},
   "source": [
    "## Setup"
   ]
  },
  {
   "cell_type": "code",
   "execution_count": null,
   "id": "cb4f4b80-d990-4bde-abf9-f77bac55c7ff",
   "metadata": {},
   "outputs": [],
   "source": [
    "%xmode minimal\n",
    "\n",
    "import numpy as np\n",
    "import xarray as xr\n",
    "\n",
    "# limit the amount of information printed to screen\n",
    "xr.set_options(display_expand_data=False)\n",
    "np.set_printoptions(threshold=10, edgeitems=2)"
   ]
  },
  {
   "cell_type": "markdown",
   "id": "61124d8d-2992-46d1-bd49-6282fe9aba82",
   "metadata": {},
   "source": [
    "Let's load a dataset"
   ]
  },
  {
   "cell_type": "code",
   "execution_count": null,
   "id": "920c4b39-6f55-43cf-99df-7eb6ea01ad82",
   "metadata": {},
   "outputs": [],
   "source": [
    "ds = xr.tutorial.load_dataset(\"air_temperature\")\n",
    "ds"
   ]
  },
  {
   "cell_type": "markdown",
   "id": "cbaab26c-24ed-4e0f-8285-f0ffff92ec14",
   "metadata": {},
   "source": [
    "## Reducing with `np.mean`\n",
    "\n",
    "Let's write a function that computes the mean along `time` for a provided xarray object. \n",
    "\n",
    "This function requires one core dimension `time`. For `ds.air` note that `time` is the 0th axis."
   ]
  },
  {
   "cell_type": "code",
   "execution_count": null,
   "id": "6637aa49-4f2f-4526-929c-65086e0196a1",
   "metadata": {
    "tags": []
   },
   "outputs": [],
   "source": [
    "ds.air.dims"
   ]
  },
  {
   "cell_type": "markdown",
   "id": "7b66f1f2-369c-42b5-b082-735c71a2e1f9",
   "metadata": {
    "tags": []
   },
   "source": [
    "`get_axis_num` is a useful method."
   ]
  },
  {
   "cell_type": "code",
   "execution_count": null,
   "id": "30e7e10b-5447-4384-bc25-0cdea72da25a",
   "metadata": {
    "tags": []
   },
   "outputs": [],
   "source": [
    "ds.air.get_axis_num(\"time\")"
   ]
  },
  {
   "cell_type": "code",
   "execution_count": null,
   "id": "f53ec56a-63bb-4103-87e9-4e7c14dc6c1a",
   "metadata": {},
   "outputs": [],
   "source": [
    "np.mean(ds.air, axis=ds.air.get_axis_num(\"time\"))"
   ]
  },
  {
   "cell_type": "code",
   "execution_count": null,
   "id": "a8214ae7-00fa-47fa-af79-79c3731b8cc1",
   "metadata": {},
   "outputs": [],
   "source": [
    "np.mean(ds.air.data, axis=0)"
   ]
  },
  {
   "cell_type": "markdown",
   "id": "938bd6a2-f0c0-412a-8f9b-4b2147750892",
   "metadata": {},
   "source": [
    "Let's try to use `apply_ufunc` to replicate `np.mean(ds.air.data, axis=0)`"
   ]
  },
  {
   "cell_type": "code",
   "execution_count": null,
   "id": "424a54a2-b704-407b-80d8-27107949f184",
   "metadata": {
    "tags": [
     "raises-exception"
    ]
   },
   "outputs": [],
   "source": [
    "xr.apply_ufunc(\n",
    "    # function to apply\n",
    "    np.mean,\n",
    "    # object with data to pass to function\n",
    "    ds,\n",
    "    # keyword arguments to pass to np.mean\n",
    "    kwargs={\"axis\": 0},\n",
    ")"
   ]
  },
  {
   "cell_type": "markdown",
   "id": "0ec1348a-cf6d-4d7e-b01b-5a9ea32f7565",
   "metadata": {
    "tags": []
   },
   "source": [
    "The error here\n",
    "```\n",
    "applied function returned data with unexpected number of dimensions. \n",
    "Received 2 dimension(s) but expected 3 dimensions with names: ('time', 'lat', 'lon')\n",
    "```\n",
    "\n",
    "means that while `np.mean` did indeed reduce one dimension, we did not tell `apply_ufunc` that this would happen. That is, we need to specify the core dimensions on the input.\n",
    "\n",
    "Do that by passing a list of dimension names for each input object. For this function we have one input : `ds` and with a single core dimension `\"time\"` so we have `input_core_dims=[[\"time\"]]`"
   ]
  },
  {
   "cell_type": "code",
   "execution_count": null,
   "id": "6e8d7580-2300-47f3-953b-403967eb7fcd",
   "metadata": {
    "tags": [
     "raises-exception"
    ]
   },
   "outputs": [],
   "source": [
    "xr.apply_ufunc(\n",
    "    np.mean,\n",
    "    ds,\n",
    "    # specify core dimensions as a list of lists\n",
    "    # here 'time' is the core dimension on `ds`\n",
    "    input_core_dims=[\n",
    "        [\"time\"],  # core dimension for ds\n",
    "    ],\n",
    "    kwargs={\"axis\": 0},\n",
    ")"
   ]
  },
  {
   "cell_type": "markdown",
   "id": "6e856818-80fe-4412-a71f-4f77bb6911c6",
   "metadata": {
    "tags": []
   },
   "source": [
    "This next error is a little confusing.\n",
    "\n",
    "```\n",
    "size of dimension 'lat' on inputs was unexpectedly changed by applied function from 25 to 53. \n",
    "Only dimensions specified in ``exclude_dims`` with xarray.apply_ufunc are allowed to change size.\n",
    "```\n",
    "\n",
    "\n",
    "A good trick here is to pass a little wrapper function to `apply_ufunc` instead and inspect the shapes of data received by the wrapper.\n"
   ]
  },
  {
   "cell_type": "code",
   "execution_count": null,
   "id": "562d5758-f492-4d9a-bf68-960da7580582",
   "metadata": {
    "tags": [
     "raises-exception"
    ]
   },
   "outputs": [],
   "source": [
    "def wrapper(array, **kwargs):\n",
    "    print(f\"received {type(array)} shape: {array.shape}, kwargs: {kwargs}\")\n",
    "    result = np.mean(array, **kwargs)\n",
    "    print(f\"result.shape: {result.shape}\")\n",
    "    return result\n",
    "\n",
    "\n",
    "xr.apply_ufunc(\n",
    "    wrapper,\n",
    "    ds,\n",
    "    # specify core dimensions as a list of lists\n",
    "    # here 'time' is the core dimension on `ds`\n",
    "    input_core_dims=[[\"time\"]],\n",
    "    kwargs={\"axis\": 0},\n",
    ")"
   ]
  },
  {
   "cell_type": "markdown",
   "id": "27008aae-f1b7-45b2-88c7-2c440f23a958",
   "metadata": {},
   "source": [
    "Now we see the issue:\n",
    "\n",
    "    received <class 'numpy.ndarray'> shape: (25, 53, 2920), kwargs: {'axis': 0}\n",
    "    result.shape: (53, 2920)\n",
    "    \n",
    "The `time` dimension is of size `2920` and is now the last axis of the array but was initially the first axis"
   ]
  },
  {
   "cell_type": "code",
   "execution_count": null,
   "id": "45ee968e-bee6-43c3-b4a1-ffdfaa5bad3c",
   "metadata": {},
   "outputs": [],
   "source": [
    "ds.air.get_axis_num(\"time\")"
   ]
  },
  {
   "cell_type": "markdown",
   "id": "415b2169-e855-4013-bf88-10ee2e87604e",
   "metadata": {
    "tags": []
   },
   "source": [
    "```{important}\n",
    "This illustrates an important concept. Arrays are transposed so that core dimensions are at the end.\n",
    "```\n",
    "\n",
    "With `apply_ufunc`, core dimensions are recognized by name, and then moved to\n",
    "the last dimension of any input arguments before applying the given function.\n",
    "This means that for functions that accept an `axis` argument, you usually need\n",
    "to set `axis=-1`\n",
    "\n",
    "Such behaviour means that our functions (like `wrapper` or `np.mean`) do not need to know the exact order of dimensions. They can rely on the core dimensions being at the end allowing us to write very general code! \n",
    "\n",
    "We can fix our `apply_ufunc` call by specifying `axis=-1` instead."
   ]
  },
  {
   "cell_type": "code",
   "execution_count": null,
   "id": "0dafff0a-3a6d-476b-bc96-409a1872d136",
   "metadata": {},
   "outputs": [],
   "source": [
    "def wrapper(array, **kwargs):\n",
    "    print(f\"received {type(array)} shape: {array.shape}, kwargs: {kwargs}\")\n",
    "    result = np.mean(array, **kwargs)\n",
    "    print(f\"result.shape: {result.shape}\")\n",
    "    return result\n",
    "\n",
    "\n",
    "xr.apply_ufunc(\n",
    "    wrapper,\n",
    "    ds,\n",
    "    input_core_dims=[[\"time\"]],\n",
    "    kwargs={\"axis\": -1},\n",
    ")"
   ]
  },
  {
   "cell_type": "markdown",
   "id": "156701e9-9104-4db4-85da-24ead2c0836d",
   "metadata": {
    "tags": []
   },
   "source": [
    "```{exercise}\n",
    ":label: trapz\n",
    "\n",
    "Use `apply_ufunc` to apply `scipy.integrate.trapz` along the `time` axis.\n",
    "```\n",
    "\n",
    "````{solution} trapz\n",
    ":class: dropdown\n",
    "\n",
    "```python\n",
    "import scipy as sp\n",
    "import scipy.integrate\n",
    "\n",
    "xr.apply_ufunc(scipy.integrate.trapz, ds, input_core_dims=[[\"time\"]], kwargs={\"axis\": -1})\n",
    "```\n",
    "````"
   ]
  }
 ],
 "metadata": {
  "language_info": {
   "codemirror_mode": {
    "name": "ipython",
    "version": 3
   },
   "file_extension": ".py",
   "mimetype": "text/x-python",
   "name": "python",
   "nbconvert_exporter": "python",
   "pygments_lexer": "ipython3"
  }
 },
 "nbformat": 4,
 "nbformat_minor": 5
}
